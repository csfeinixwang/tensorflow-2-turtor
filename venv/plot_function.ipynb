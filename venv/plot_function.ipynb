{
 "cells": [
  {
   "cell_type": "code",
   "execution_count": 0,
   "metadata": {
    "collapsed": true,
    "pycharm": {
     "is_executing": false
    }
   },
   "outputs": [],
   "source": []
  },
  {
   "cell_type": "markdown",
   "source": [
    "## plot 绘图中的图形内容参数\n",
    "###(1) 其中常见的颜色参数：colors\n",
    "\n",
    "#### =============    ===============================\n",
    "    character        color\n",
    "    =============    ===============================\n",
    "    ``'b'``          blue 蓝\n",
    "    ``'g'``          green 绿\n",
    "    ``'r'``          red 红\n",
    "    ``'c'``          cyan 蓝绿\n",
    "    ``'m'``          magenta 洋红\n",
    "    ``'y'``          yellow 黄\n",
    "    ``'k'``          black 黑\n",
    "    ``'w'``          white 白\n",
    "    =============    ===============================\n",
    "#### =============    ===============================\n",
    "    character        description\n",
    "    =============    ===============================\n",
    "    ``'.'``          point marker 点标记\n",
    "    ``','``          pixel marker 像素标记\n",
    "    ``'o'``          circle marker 圆圈标记\n",
    "    ``'v'``          triangle_down marker 下三角标记\n",
    "    ``'^'``          triangle_up marker 上三角标记\n",
    "    ``'<'``          triangle_left marker 左三角标记\n",
    "    ``'>'``          triangle_right marker 右三角标记\n",
    "    ``'1'``          tri_down marker\n",
    "    ``'2'``          tri_up marker\n",
    "    ``'3'``          tri_left marker\n",
    "    ``'4'``          tri_right marker\n",
    "    ``'s'``          square marker 方块标记\n",
    "    ``'p'``          pentagon marker 五边形标记\n",
    "    ``'*'``          star marker 星花*标记\n",
    "    ``'h'``          hexagon1 marker 六边形标记\n",
    "    ``'H'``          hexagon2 marker 六边形标记\n",
    "    ``'+'``          plus marker 加好标记\n",
    "    ``'x'``          x marker x标记\n",
    "    ``'D'``          diamond marker 方菱形标记\n",
    "    ``'d'``          thin_diamond marker 瘦菱形标记\n",
    "    ``'|'``          vline marker 竖线标记\n",
    "    ``'_'``          hline marker 下划线标记\n",
    "    =============    ===============================\n",
    "\n",
    "#### =============    ===============================\n",
    "    character        description\n",
    "    =============    ===============================\n",
    "    ``'-'``          solid line style 实线\n",
    "    ``'--'``         dashed line style 虚线\n",
    "    ``'-.'``         dash-dot line style 点画线\n",
    "    ``':'``          dotted line style 点线\n",
    "    =============    ===============================\n"
   ],
   "metadata": {
    "collapsed": false
   }
  }
 ],
 "metadata": {
  "kernelspec": {
   "display_name": "Python 3",
   "language": "python",
   "name": "python3"
  },
  "language_info": {
   "codemirror_mode": {
    "name": "ipython",
    "version": 2
   },
   "file_extension": ".py",
   "mimetype": "text/x-python",
   "name": "python",
   "nbconvert_exporter": "python",
   "pygments_lexer": "ipython2",
   "version": "2.7.6"
  },
  "pycharm": {
   "stem_cell": {
    "cell_type": "raw",
    "source": [],
    "metadata": {
     "collapsed": false
    }
   }
  }
 },
 "nbformat": 4,
 "nbformat_minor": 0
}